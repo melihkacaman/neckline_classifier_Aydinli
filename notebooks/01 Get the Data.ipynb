{
 "cells": [
  {
   "attachments": {},
   "cell_type": "markdown",
   "metadata": {},
   "source": [
    "# Read Source and Downloads Images "
   ]
  },
  {
   "cell_type": "code",
   "execution_count": 10,
   "metadata": {},
   "outputs": [
    {
     "data": {
      "text/html": [
       "<div>\n",
       "<style scoped>\n",
       "    .dataframe tbody tr th:only-of-type {\n",
       "        vertical-align: middle;\n",
       "    }\n",
       "\n",
       "    .dataframe tbody tr th {\n",
       "        vertical-align: top;\n",
       "    }\n",
       "\n",
       "    .dataframe thead th {\n",
       "        text-align: right;\n",
       "    }\n",
       "</style>\n",
       "<table border=\"1\" class=\"dataframe\">\n",
       "  <thead>\n",
       "    <tr style=\"text-align: right;\">\n",
       "      <th></th>\n",
       "      <th>order</th>\n",
       "      <th>img_url</th>\n",
       "      <th>class</th>\n",
       "    </tr>\n",
       "  </thead>\n",
       "  <tbody>\n",
       "    <tr>\n",
       "      <th>0</th>\n",
       "      <td>2</td>\n",
       "      <td>https://showroom.aydinli.com.tr/2023K/08/50269...</td>\n",
       "      <td>KAPIŞONLU</td>\n",
       "    </tr>\n",
       "    <tr>\n",
       "      <th>1</th>\n",
       "      <td>1</td>\n",
       "      <td>https://resim.aydinli.com.tr/02/1/004/S5020344...</td>\n",
       "      <td>DÜĞMELI YAKA</td>\n",
       "    </tr>\n",
       "    <tr>\n",
       "      <th>2</th>\n",
       "      <td>2</td>\n",
       "      <td>https://resim.aydinli.com.tr/02/1/001/S5021871...</td>\n",
       "      <td>MONO YAKA</td>\n",
       "    </tr>\n",
       "    <tr>\n",
       "      <th>3</th>\n",
       "      <td>2</td>\n",
       "      <td>https://resim.aydinli.com.tr/02/1/001/S5025184...</td>\n",
       "      <td>MONO YAKA</td>\n",
       "    </tr>\n",
       "    <tr>\n",
       "      <th>4</th>\n",
       "      <td>2</td>\n",
       "      <td>https://resim.aydinli.com.tr/02/1/004/S5024040...</td>\n",
       "      <td>DÜĞMELI YAKA</td>\n",
       "    </tr>\n",
       "  </tbody>\n",
       "</table>\n",
       "</div>"
      ],
      "text/plain": [
       "   order                                            img_url         class\n",
       "0      2  https://showroom.aydinli.com.tr/2023K/08/50269...     KAPIŞONLU\n",
       "1      1  https://resim.aydinli.com.tr/02/1/004/S5020344...  DÜĞMELI YAKA\n",
       "2      2  https://resim.aydinli.com.tr/02/1/001/S5021871...     MONO YAKA\n",
       "3      2  https://resim.aydinli.com.tr/02/1/001/S5025184...     MONO YAKA\n",
       "4      2  https://resim.aydinli.com.tr/02/1/004/S5024040...  DÜĞMELI YAKA"
      ]
     },
     "execution_count": 10,
     "metadata": {},
     "output_type": "execute_result"
    }
   ],
   "source": [
    "import pandas as pd \n",
    "\n",
    "data = pd.read_csv(\"../data/neckline_two_variants_based_6.csv\", names=['order', 'img_url', 'class']).sample(frac=1).reset_index(drop=True)\n",
    "data.head() "
   ]
  },
  {
   "cell_type": "code",
   "execution_count": 11,
   "metadata": {},
   "outputs": [
    {
     "data": {
      "text/plain": [
       "(28414, 3)"
      ]
     },
     "execution_count": 11,
     "metadata": {},
     "output_type": "execute_result"
    }
   ],
   "source": [
    "data.shape "
   ]
  },
  {
   "cell_type": "code",
   "execution_count": null,
   "metadata": {},
   "outputs": [],
   "source": []
  }
 ],
 "metadata": {
  "kernelspec": {
   "display_name": "env_similar-products",
   "language": "python",
   "name": "python3"
  },
  "language_info": {
   "codemirror_mode": {
    "name": "ipython",
    "version": 3
   },
   "file_extension": ".py",
   "mimetype": "text/x-python",
   "name": "python",
   "nbconvert_exporter": "python",
   "pygments_lexer": "ipython3",
   "version": "3.9.13"
  },
  "orig_nbformat": 4,
  "vscode": {
   "interpreter": {
    "hash": "d2ae175228e4b907f6759aae1200b3a8fda51833cb8d87ddc125794bd32e5598"
   }
  }
 },
 "nbformat": 4,
 "nbformat_minor": 2
}
