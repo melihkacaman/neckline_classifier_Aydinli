{
  "cells": [
    {
      "cell_type": "markdown",
      "metadata": {
        "colab_type": "text",
        "id": "view-in-github"
      },
      "source": [
        "<a href=\"https://colab.research.google.com/github/melihkacaman/neckline_classifier_Aydinli/blob/main/02.1%20Models_Creation%20Colab.ipynb\" target=\"_parent\"><img src=\"https://colab.research.google.com/assets/colab-badge.svg\" alt=\"Open In Colab\"/></a>"
      ]
    },
    {
      "cell_type": "code",
      "execution_count": 1,
      "metadata": {
        "colab": {
          "base_uri": "https://localhost:8080/"
        },
        "id": "MDg1cXrtQ0Rj",
        "outputId": "9a7133e9-9d50-4af3-95d5-5b95f7c617c0"
      },
      "outputs": [
        {
          "name": "stdout",
          "output_type": "stream",
          "text": [
            "Mon Mar 13 06:18:53 2023       \n",
            "+-----------------------------------------------------------------------------+\n",
            "| NVIDIA-SMI 525.85.12    Driver Version: 525.85.12    CUDA Version: 12.0     |\n",
            "|-------------------------------+----------------------+----------------------+\n",
            "| GPU  Name        Persistence-M| Bus-Id        Disp.A | Volatile Uncorr. ECC |\n",
            "| Fan  Temp  Perf  Pwr:Usage/Cap|         Memory-Usage | GPU-Util  Compute M. |\n",
            "|                               |                      |               MIG M. |\n",
            "|===============================+======================+======================|\n",
            "|   0  Tesla T4            Off  | 00000000:00:04.0 Off |                    0 |\n",
            "| N/A   55C    P0    26W /  70W |      0MiB / 15360MiB |      0%      Default |\n",
            "|                               |                      |                  N/A |\n",
            "+-------------------------------+----------------------+----------------------+\n",
            "                                                                               \n",
            "+-----------------------------------------------------------------------------+\n",
            "| Processes:                                                                  |\n",
            "|  GPU   GI   CI        PID   Type   Process name                  GPU Memory |\n",
            "|        ID   ID                                                   Usage      |\n",
            "|=============================================================================|\n",
            "|  No running processes found                                                 |\n",
            "+-----------------------------------------------------------------------------+\n"
          ]
        }
      ],
      "source": [
        "!nvidia-smi"
      ]
    },
    {
      "cell_type": "code",
      "execution_count": 2,
      "metadata": {
        "colab": {
          "base_uri": "https://localhost:8080/"
        },
        "id": "JIM9BiiAjaSO",
        "outputId": "688f48d1-0636-44ee-b4f6-574c55cbeb4d"
      },
      "outputs": [
        {
          "name": "stdout",
          "output_type": "stream",
          "text": [
            "Looking in indexes: https://pypi.org/simple, https://us-python.pkg.dev/colab-wheels/public/simple/\n",
            "Requirement already satisfied: tensorflow==2.9.1 in /usr/local/lib/python3.9/dist-packages (2.9.1)\n",
            "Requirement already satisfied: flatbuffers<2,>=1.12 in /usr/local/lib/python3.9/dist-packages (from tensorflow==2.9.1) (1.12)\n",
            "Requirement already satisfied: absl-py>=1.0.0 in /usr/local/lib/python3.9/dist-packages (from tensorflow==2.9.1) (1.4.0)\n",
            "Requirement already satisfied: six>=1.12.0 in /usr/local/lib/python3.9/dist-packages (from tensorflow==2.9.1) (1.15.0)\n",
            "Requirement already satisfied: typing-extensions>=3.6.6 in /usr/local/lib/python3.9/dist-packages (from tensorflow==2.9.1) (4.5.0)\n",
            "Requirement already satisfied: h5py>=2.9.0 in /usr/local/lib/python3.9/dist-packages (from tensorflow==2.9.1) (3.1.0)\n",
            "Requirement already satisfied: tensorflow-estimator<2.10.0,>=2.9.0rc0 in /usr/local/lib/python3.9/dist-packages (from tensorflow==2.9.1) (2.9.0)\n",
            "Requirement already satisfied: astunparse>=1.6.0 in /usr/local/lib/python3.9/dist-packages (from tensorflow==2.9.1) (1.6.3)\n",
            "Requirement already satisfied: libclang>=13.0.0 in /usr/local/lib/python3.9/dist-packages (from tensorflow==2.9.1) (15.0.6.1)\n",
            "Requirement already satisfied: protobuf<3.20,>=3.9.2 in /usr/local/lib/python3.9/dist-packages (from tensorflow==2.9.1) (3.19.6)\n",
            "Requirement already satisfied: keras-preprocessing>=1.1.1 in /usr/local/lib/python3.9/dist-packages (from tensorflow==2.9.1) (1.1.2)\n",
            "Requirement already satisfied: opt-einsum>=2.3.2 in /usr/local/lib/python3.9/dist-packages (from tensorflow==2.9.1) (3.3.0)\n",
            "Requirement already satisfied: tensorflow-io-gcs-filesystem>=0.23.1 in /usr/local/lib/python3.9/dist-packages (from tensorflow==2.9.1) (0.31.0)\n",
            "Requirement already satisfied: grpcio<2.0,>=1.24.3 in /usr/local/lib/python3.9/dist-packages (from tensorflow==2.9.1) (1.51.3)\n",
            "Requirement already satisfied: gast<=0.4.0,>=0.2.1 in /usr/local/lib/python3.9/dist-packages (from tensorflow==2.9.1) (0.4.0)\n",
            "Requirement already satisfied: packaging in /usr/local/lib/python3.9/dist-packages (from tensorflow==2.9.1) (23.0)\n",
            "Requirement already satisfied: termcolor>=1.1.0 in /usr/local/lib/python3.9/dist-packages (from tensorflow==2.9.1) (2.2.0)\n",
            "Requirement already satisfied: setuptools in /usr/local/lib/python3.9/dist-packages (from tensorflow==2.9.1) (57.4.0)\n",
            "Requirement already satisfied: google-pasta>=0.1.1 in /usr/local/lib/python3.9/dist-packages (from tensorflow==2.9.1) (0.2.0)\n",
            "Requirement already satisfied: tensorboard<2.10,>=2.9 in /usr/local/lib/python3.9/dist-packages (from tensorflow==2.9.1) (2.9.1)\n",
            "Requirement already satisfied: numpy>=1.20 in /usr/local/lib/python3.9/dist-packages (from tensorflow==2.9.1) (1.22.4)\n",
            "Requirement already satisfied: wrapt>=1.11.0 in /usr/local/lib/python3.9/dist-packages (from tensorflow==2.9.1) (1.15.0)\n",
            "Requirement already satisfied: keras<2.10.0,>=2.9.0rc0 in /usr/local/lib/python3.9/dist-packages (from tensorflow==2.9.1) (2.9.0)\n",
            "Requirement already satisfied: wheel<1.0,>=0.23.0 in /usr/local/lib/python3.9/dist-packages (from astunparse>=1.6.0->tensorflow==2.9.1) (0.38.4)\n",
            "Requirement already satisfied: markdown>=2.6.8 in /usr/local/lib/python3.9/dist-packages (from tensorboard<2.10,>=2.9->tensorflow==2.9.1) (3.4.1)\n",
            "Requirement already satisfied: werkzeug>=1.0.1 in /usr/local/lib/python3.9/dist-packages (from tensorboard<2.10,>=2.9->tensorflow==2.9.1) (2.2.3)\n",
            "Requirement already satisfied: google-auth<3,>=1.6.3 in /usr/local/lib/python3.9/dist-packages (from tensorboard<2.10,>=2.9->tensorflow==2.9.1) (2.16.2)\n",
            "Requirement already satisfied: tensorboard-data-server<0.7.0,>=0.6.0 in /usr/local/lib/python3.9/dist-packages (from tensorboard<2.10,>=2.9->tensorflow==2.9.1) (0.6.1)\n",
            "Requirement already satisfied: requests<3,>=2.21.0 in /usr/local/lib/python3.9/dist-packages (from tensorboard<2.10,>=2.9->tensorflow==2.9.1) (2.25.1)\n",
            "Requirement already satisfied: tensorboard-plugin-wit>=1.6.0 in /usr/local/lib/python3.9/dist-packages (from tensorboard<2.10,>=2.9->tensorflow==2.9.1) (1.8.1)\n",
            "Requirement already satisfied: google-auth-oauthlib<0.5,>=0.4.1 in /usr/local/lib/python3.9/dist-packages (from tensorboard<2.10,>=2.9->tensorflow==2.9.1) (0.4.6)\n",
            "Requirement already satisfied: pyasn1-modules>=0.2.1 in /usr/local/lib/python3.9/dist-packages (from google-auth<3,>=1.6.3->tensorboard<2.10,>=2.9->tensorflow==2.9.1) (0.2.8)\n",
            "Requirement already satisfied: cachetools<6.0,>=2.0.0 in /usr/local/lib/python3.9/dist-packages (from google-auth<3,>=1.6.3->tensorboard<2.10,>=2.9->tensorflow==2.9.1) (5.3.0)\n",
            "Requirement already satisfied: rsa<5,>=3.1.4 in /usr/local/lib/python3.9/dist-packages (from google-auth<3,>=1.6.3->tensorboard<2.10,>=2.9->tensorflow==2.9.1) (4.9)\n",
            "Requirement already satisfied: requests-oauthlib>=0.7.0 in /usr/local/lib/python3.9/dist-packages (from google-auth-oauthlib<0.5,>=0.4.1->tensorboard<2.10,>=2.9->tensorflow==2.9.1) (1.3.1)\n",
            "Requirement already satisfied: importlib-metadata>=4.4 in /usr/local/lib/python3.9/dist-packages (from markdown>=2.6.8->tensorboard<2.10,>=2.9->tensorflow==2.9.1) (6.0.0)\n",
            "Requirement already satisfied: certifi>=2017.4.17 in /usr/local/lib/python3.9/dist-packages (from requests<3,>=2.21.0->tensorboard<2.10,>=2.9->tensorflow==2.9.1) (2022.12.7)\n",
            "Requirement already satisfied: idna<3,>=2.5 in /usr/local/lib/python3.9/dist-packages (from requests<3,>=2.21.0->tensorboard<2.10,>=2.9->tensorflow==2.9.1) (2.10)\n",
            "Requirement already satisfied: urllib3<1.27,>=1.21.1 in /usr/local/lib/python3.9/dist-packages (from requests<3,>=2.21.0->tensorboard<2.10,>=2.9->tensorflow==2.9.1) (1.26.14)\n",
            "Requirement already satisfied: chardet<5,>=3.0.2 in /usr/local/lib/python3.9/dist-packages (from requests<3,>=2.21.0->tensorboard<2.10,>=2.9->tensorflow==2.9.1) (4.0.0)\n",
            "Requirement already satisfied: MarkupSafe>=2.1.1 in /usr/local/lib/python3.9/dist-packages (from werkzeug>=1.0.1->tensorboard<2.10,>=2.9->tensorflow==2.9.1) (2.1.2)\n",
            "Requirement already satisfied: zipp>=0.5 in /usr/local/lib/python3.9/dist-packages (from importlib-metadata>=4.4->markdown>=2.6.8->tensorboard<2.10,>=2.9->tensorflow==2.9.1) (3.15.0)\n",
            "Requirement already satisfied: pyasn1<0.5.0,>=0.4.6 in /usr/local/lib/python3.9/dist-packages (from pyasn1-modules>=0.2.1->google-auth<3,>=1.6.3->tensorboard<2.10,>=2.9->tensorflow==2.9.1) (0.4.8)\n",
            "Requirement already satisfied: oauthlib>=3.0.0 in /usr/local/lib/python3.9/dist-packages (from requests-oauthlib>=0.7.0->google-auth-oauthlib<0.5,>=0.4.1->tensorboard<2.10,>=2.9->tensorflow==2.9.1) (3.2.2)\n"
          ]
        }
      ],
      "source": [
        "!pip install tensorflow==2.9.1"
      ]
    },
    {
      "cell_type": "code",
      "execution_count": 3,
      "metadata": {
        "colab": {
          "base_uri": "https://localhost:8080/"
        },
        "id": "PDbj55r4LWnm",
        "outputId": "6b9e8e56-e0c5-4d89-b8bf-97f0b99f4009"
      },
      "outputs": [
        {
          "name": "stdout",
          "output_type": "stream",
          "text": [
            "Drive already mounted at /content/drive; to attempt to forcibly remount, call drive.mount(\"/content/drive\", force_remount=True).\n"
          ]
        }
      ],
      "source": [
        "from google.colab import drive\n",
        "drive.mount('/content/drive')"
      ]
    },
    {
      "cell_type": "code",
      "execution_count": 4,
      "metadata": {
        "colab": {
          "base_uri": "https://localhost:8080/"
        },
        "id": "Mj795DmHPMgw",
        "outputId": "f0320a1e-501b-4c9d-d1b4-132cc1bad828"
      },
      "outputs": [
        {
          "name": "stdout",
          "output_type": "stream",
          "text": [
            "Looking in indexes: https://pypi.org/simple, https://us-python.pkg.dev/colab-wheels/public/simple/\n",
            "Requirement already satisfied: py7zr in /usr/local/lib/python3.9/dist-packages (0.20.4)\n",
            "Requirement already satisfied: psutil in /usr/local/lib/python3.9/dist-packages (from py7zr) (5.4.8)\n",
            "Requirement already satisfied: pybcj>=0.6.0 in /usr/local/lib/python3.9/dist-packages (from py7zr) (1.0.1)\n",
            "Requirement already satisfied: brotli>=1.0.9 in /usr/local/lib/python3.9/dist-packages (from py7zr) (1.0.9)\n",
            "Requirement already satisfied: pycryptodomex>=3.6.6 in /usr/local/lib/python3.9/dist-packages (from py7zr) (3.17)\n",
            "Requirement already satisfied: pyzstd>=0.14.4 in /usr/local/lib/python3.9/dist-packages (from py7zr) (0.15.4)\n",
            "Requirement already satisfied: multivolumefile>=0.2.3 in /usr/local/lib/python3.9/dist-packages (from py7zr) (0.2.3)\n",
            "Requirement already satisfied: pyppmd<1.1.0,>=0.18.1 in /usr/local/lib/python3.9/dist-packages (from py7zr) (1.0.0)\n",
            "Requirement already satisfied: inflate64>=0.3.1 in /usr/local/lib/python3.9/dist-packages (from py7zr) (0.3.1)\n",
            "Requirement already satisfied: texttable in /usr/local/lib/python3.9/dist-packages (from py7zr) (1.6.7)\n"
          ]
        }
      ],
      "source": [
        "!pip install py7zr"
      ]
    },
    {
      "cell_type": "code",
      "execution_count": 5,
      "metadata": {
        "id": "RMz6-AMdMPG4"
      },
      "outputs": [],
      "source": [
        "import py7zr\n",
        "\n",
        "archive = py7zr.SevenZipFile('/content/drive/MyDrive/datasets/data/data_min_balanced_df.7z', mode='r')\n",
        "archive.extractall(path=\"/content\")\n",
        "archive.close()"
      ]
    },
    {
      "cell_type": "markdown",
      "metadata": {
        "id": "GiHGhLnGJi3Q"
      },
      "source": [
        "# Constants "
      ]
    },
    {
      "cell_type": "code",
      "execution_count": 6,
      "metadata": {
        "id": "v0rw_d9zJi3S"
      },
      "outputs": [],
      "source": [
        "IMG_SIZE = (224, 224) \n",
        "train_dir, test_dir = \"/content/data_min_balanced_df/train/\", \"/content/data_min_balanced_df/test/\"  "
      ]
    },
    {
      "cell_type": "code",
      "execution_count": 7,
      "metadata": {
        "colab": {
          "base_uri": "https://localhost:8080/"
        },
        "id": "6vTXPcAxJi3T",
        "outputId": "db2e37af-d558-477c-accb-e30a8e2e3979"
      },
      "outputs": [
        {
          "name": "stdout",
          "output_type": "stream",
          "text": [
            "Found 11987 files belonging to 6 classes.\n",
            "Found 1500 files belonging to 6 classes.\n"
          ]
        }
      ],
      "source": [
        "import tensorflow as tf \n",
        "\n",
        "train_data = tf.keras.preprocessing.image_dataset_from_directory(\n",
        "    directory=train_dir,\n",
        "    image_size=IMG_SIZE,\n",
        "    label_mode=\"categorical\", \n",
        "    batch_size=32) \n",
        "\n",
        "test_data = tf.keras.preprocessing.image_dataset_from_directory(\n",
        "    directory=test_dir,\n",
        "    image_size=IMG_SIZE,\n",
        "    label_mode=\"categorical\", \n",
        "    batch_size=32) "
      ]
    },
    {
      "cell_type": "code",
      "execution_count": 8,
      "metadata": {
        "colab": {
          "base_uri": "https://localhost:8080/"
        },
        "id": "_sqpMYu_Ji3U",
        "outputId": "cbe88478-cff6-41b1-b159-cd36ca5bf428"
      },
      "outputs": [
        {
          "data": {
            "text/plain": [
              "(['class_0', 'class_1', 'class_2', 'class_3', 'class_4', 'class_5'],\n",
              " ['class_0', 'class_1', 'class_2', 'class_3', 'class_4', 'class_5'])"
            ]
          },
          "execution_count": 8,
          "metadata": {},
          "output_type": "execute_result"
        }
      ],
      "source": [
        "train_data.class_names, test_data.class_names"
      ]
    },
    {
      "cell_type": "code",
      "execution_count": 9,
      "metadata": {
        "colab": {
          "base_uri": "https://localhost:8080/"
        },
        "id": "pdv6GnIrJi3U",
        "outputId": "f82144ca-9d67-4566-b060-5d5963e9d2b5"
      },
      "outputs": [
        {
          "name": "stdout",
          "output_type": "stream",
          "text": [
            "(32, 224, 224, 3) (32, 6)\n"
          ]
        }
      ],
      "source": [
        "for images, labels in train_data.take(1): \n",
        "    print(images.shape, labels.shape)"
      ]
    },
    {
      "cell_type": "markdown",
      "metadata": {
        "id": "c1MRuzghJi3U"
      },
      "source": [
        "# Model 0: Efficient Net B0 "
      ]
    },
    {
      "cell_type": "code",
      "execution_count": 10,
      "metadata": {
        "id": "srjCkkcVJi3V"
      },
      "outputs": [],
      "source": [
        "base_model = tf.keras.applications.EfficientNetB0(include_top=False)\n",
        "base_model.trainable = False \n",
        "\n",
        "inputs = tf.keras.layers.Input(shape=(224, 224, 3), name=\"input_layer\")\n",
        "x = base_model(inputs) \n",
        "x = tf.keras.layers.GlobalAveragePooling2D(name='global_average_pooling_layer')(x) \n",
        "outputs = tf.keras.layers.Dense(6, activation=\"softmax\", name=\"output_layer\")(x)\n",
        "\n",
        "model_0 = tf.keras.Model(inputs, outputs) "
      ]
    },
    {
      "cell_type": "code",
      "execution_count": 11,
      "metadata": {
        "id": "7W4wbox_Ji3V"
      },
      "outputs": [],
      "source": [
        "model_0.compile(loss=\"categorical_crossentropy\", \n",
        "                optimizer=tf.keras.optimizers.Adam(),\n",
        "                metrics=[\n",
        "                    tf.keras.metrics.Accuracy(name='accuracy'),\n",
        "                    tf.keras.metrics.Precision(name='precision'),\n",
        "                    tf.keras.metrics.Recall(name='recall')\n",
        "                ]) \n"
      ]
    },
    {
      "cell_type": "code",
      "execution_count": 12,
      "metadata": {
        "id": "T5w_yk7_Ji3V"
      },
      "outputs": [],
      "source": [
        "checkpoint_path = \"/content/drive/MyDrive/datasets/data/checkpoints/MODEL_0/checkpoint-{epoch:01d}.ckpt\" \n",
        "checkpoint_callback = tf.keras.callbacks.ModelCheckpoint(filepath=checkpoint_path,\n",
        "                                                         save_weights_only=True,\n",
        "                                                         save_best_only=False,\n",
        "                                                         verbose=1) "
      ]
    },
    {
      "cell_type": "code",
      "execution_count": 13,
      "metadata": {
        "colab": {
          "base_uri": "https://localhost:8080/"
        },
        "id": "sQ8yMSx8Ji3V",
        "outputId": "f262455b-fb87-4e7d-b1c7-1f265c542102"
      },
      "outputs": [
        {
          "name": "stdout",
          "output_type": "stream",
          "text": [
            "Model: \"model\"\n",
            "_________________________________________________________________\n",
            " Layer (type)                Output Shape              Param #   \n",
            "=================================================================\n",
            " input_layer (InputLayer)    [(None, 224, 224, 3)]     0         \n",
            "                                                                 \n",
            " efficientnetb0 (Functional)  (None, None, None, 1280)  4049571  \n",
            "                                                                 \n",
            " global_average_pooling_laye  (None, 1280)             0         \n",
            " r (GlobalAveragePooling2D)                                      \n",
            "                                                                 \n",
            " output_layer (Dense)        (None, 6)                 7686      \n",
            "                                                                 \n",
            "=================================================================\n",
            "Total params: 4,057,257\n",
            "Trainable params: 7,686\n",
            "Non-trainable params: 4,049,571\n",
            "_________________________________________________________________\n"
          ]
        }
      ],
      "source": [
        "model_0.summary() "
      ]
    },
    {
      "cell_type": "code",
      "execution_count": 14,
      "metadata": {
        "colab": {
          "base_uri": "https://localhost:8080/"
        },
        "id": "5e1aV0MpSKBq",
        "outputId": "b5f34bb4-3398-4b8d-8ec9-0d0064d11284"
      },
      "outputs": [
        {
          "name": "stdout",
          "output_type": "stream",
          "text": [
            "Epoch 1/10\n",
            "375/375 [==============================] - ETA: 0s - loss: 0.8008 - accuracy: 0.9091 - precision: 0.8844 - recall: 0.5226\n",
            "Epoch 1: saving model to /content/drive/MyDrive/datasets/data/checkpoints/MODEL_0/checkpoint-1.ckpt\n",
            "375/375 [==============================] - 53s 98ms/step - loss: 0.8008 - accuracy: 0.9091 - precision: 0.8844 - recall: 0.5226 - val_loss: 0.4759 - val_accuracy: 0.9455 - val_precision: 0.9158 - val_recall: 0.7415\n",
            "Epoch 2/10\n",
            "374/375 [============================>.] - ETA: 0s - loss: 0.5244 - accuracy: 0.9409 - precision: 0.8885 - recall: 0.7378\n",
            "Epoch 2: saving model to /content/drive/MyDrive/datasets/data/checkpoints/MODEL_0/checkpoint-2.ckpt\n",
            "375/375 [==============================] - 32s 83ms/step - loss: 0.5242 - accuracy: 0.9409 - precision: 0.8886 - recall: 0.7379 - val_loss: 0.4477 - val_accuracy: 0.9474 - val_precision: 0.8900 - val_recall: 0.7812\n",
            "Epoch 3/10\n",
            "374/375 [============================>.] - ETA: 0s - loss: 0.4563 - accuracy: 0.9493 - precision: 0.8980 - recall: 0.7851\n",
            "Epoch 3: saving model to /content/drive/MyDrive/datasets/data/checkpoints/MODEL_0/checkpoint-3.ckpt\n",
            "375/375 [==============================] - 34s 90ms/step - loss: 0.4559 - accuracy: 0.9494 - precision: 0.8982 - recall: 0.7854 - val_loss: 0.3744 - val_accuracy: 0.9602 - val_precision: 0.9214 - val_recall: 0.8324\n",
            "Epoch 4/10\n",
            "374/375 [============================>.] - ETA: 0s - loss: 0.4157 - accuracy: 0.9537 - precision: 0.9009 - recall: 0.8115\n",
            "Epoch 4: saving model to /content/drive/MyDrive/datasets/data/checkpoints/MODEL_0/checkpoint-4.ckpt\n",
            "375/375 [==============================] - 35s 94ms/step - loss: 0.4159 - accuracy: 0.9537 - precision: 0.9008 - recall: 0.8113 - val_loss: 0.3624 - val_accuracy: 0.9631 - val_precision: 0.9177 - val_recall: 0.8551\n",
            "Epoch 5/10\n",
            "375/375 [==============================] - ETA: 0s - loss: 0.3852 - accuracy: 0.9577 - precision: 0.9079 - recall: 0.8303\n",
            "Epoch 5: saving model to /content/drive/MyDrive/datasets/data/checkpoints/MODEL_0/checkpoint-5.ckpt\n",
            "375/375 [==============================] - 33s 88ms/step - loss: 0.3852 - accuracy: 0.9577 - precision: 0.9079 - recall: 0.8303 - val_loss: 0.3551 - val_accuracy: 0.9645 - val_precision: 0.9288 - val_recall: 0.8523\n",
            "Epoch 6/10\n",
            "375/375 [==============================] - ETA: 0s - loss: 0.3617 - accuracy: 0.9605 - precision: 0.9129 - recall: 0.8432\n",
            "Epoch 6: saving model to /content/drive/MyDrive/datasets/data/checkpoints/MODEL_0/checkpoint-6.ckpt\n",
            "375/375 [==============================] - 32s 85ms/step - loss: 0.3617 - accuracy: 0.9605 - precision: 0.9129 - recall: 0.8432 - val_loss: 0.3082 - val_accuracy: 0.9683 - val_precision: 0.9331 - val_recall: 0.8722\n",
            "Epoch 7/10\n",
            "374/375 [============================>.] - ETA: 0s - loss: 0.3465 - accuracy: 0.9620 - precision: 0.9151 - recall: 0.8510\n",
            "Epoch 7: saving model to /content/drive/MyDrive/datasets/data/checkpoints/MODEL_0/checkpoint-7.ckpt\n",
            "375/375 [==============================] - 36s 93ms/step - loss: 0.3463 - accuracy: 0.9620 - precision: 0.9151 - recall: 0.8511 - val_loss: 0.3313 - val_accuracy: 0.9645 - val_precision: 0.9184 - val_recall: 0.8636\n",
            "Epoch 8/10\n",
            "375/375 [==============================] - ETA: 0s - loss: 0.3306 - accuracy: 0.9641 - precision: 0.9184 - recall: 0.8609\n",
            "Epoch 8: saving model to /content/drive/MyDrive/datasets/data/checkpoints/MODEL_0/checkpoint-8.ckpt\n",
            "375/375 [==============================] - 32s 84ms/step - loss: 0.3306 - accuracy: 0.9641 - precision: 0.9184 - recall: 0.8609 - val_loss: 0.3173 - val_accuracy: 0.9678 - val_precision: 0.9277 - val_recall: 0.8750\n",
            "Epoch 9/10\n",
            "375/375 [==============================] - ETA: 0s - loss: 0.3189 - accuracy: 0.9655 - precision: 0.9228 - recall: 0.8652\n",
            "Epoch 9: saving model to /content/drive/MyDrive/datasets/data/checkpoints/MODEL_0/checkpoint-9.ckpt\n",
            "375/375 [==============================] - 34s 90ms/step - loss: 0.3189 - accuracy: 0.9655 - precision: 0.9228 - recall: 0.8652 - val_loss: 0.3689 - val_accuracy: 0.9631 - val_precision: 0.9102 - val_recall: 0.8636\n",
            "Epoch 10/10\n",
            "375/375 [==============================] - ETA: 0s - loss: 0.3078 - accuracy: 0.9670 - precision: 0.9249 - recall: 0.8729\n",
            "Epoch 10: saving model to /content/drive/MyDrive/datasets/data/checkpoints/MODEL_0/checkpoint-10.ckpt\n",
            "375/375 [==============================] - 36s 94ms/step - loss: 0.3078 - accuracy: 0.9670 - precision: 0.9249 - recall: 0.8729 - val_loss: 0.3181 - val_accuracy: 0.9669 - val_precision: 0.9247 - val_recall: 0.8722\n"
          ]
        }
      ],
      "source": [
        "# 10. Fit the model \n",
        "history_model_0 = model_0.fit(\n",
        "    train_data, \n",
        "    epochs=10, \n",
        "    steps_per_epoch=len(train_data), \n",
        "    validation_data = test_data,\n",
        "    callbacks=[checkpoint_callback],\n",
        "    validation_steps=int(0.25 * len(test_data))\n",
        ")"
      ]
    },
    {
      "cell_type": "code",
      "execution_count": 15,
      "metadata": {
        "colab": {
          "base_uri": "https://localhost:8080/"
        },
        "id": "JNfT5ZdRWFr2",
        "outputId": "c8605808-c8b7-4910-c7d5-1f19f2706762"
      },
      "outputs": [
        {
          "name": "stdout",
          "output_type": "stream",
          "text": [
            "47/47 [==============================] - 5s 87ms/step - loss: 0.3428 - accuracy: 0.9646 - precision: 0.9132 - recall: 0.8700\n"
          ]
        },
        {
          "data": {
            "text/plain": [
              "[0.34277501702308655,\n",
              " 0.964555561542511,\n",
              " 0.9132260084152222,\n",
              " 0.8700000047683716]"
            ]
          },
          "execution_count": 15,
          "metadata": {},
          "output_type": "execute_result"
        }
      ],
      "source": [
        "model_0.evaluate(test_data)"
      ]
    },
    {
      "cell_type": "markdown",
      "metadata": {
        "id": "WwNzKyZSZYsf"
      },
      "source": [
        "## Fine Tuning "
      ]
    },
    {
      "cell_type": "code",
      "execution_count": 16,
      "metadata": {
        "colab": {
          "base_uri": "https://localhost:8080/"
        },
        "id": "cnw0e-NUaDn4",
        "outputId": "beb2c142-49e5-4063-8db5-6d2a040a91a0"
      },
      "outputs": [
        {
          "name": "stdout",
          "output_type": "stream",
          "text": [
            "True\n",
            "False\n",
            "True\n",
            "True\n"
          ]
        }
      ],
      "source": [
        "for layer in model_0.layers: \n",
        "  print(layer.trainable)"
      ]
    },
    {
      "cell_type": "code",
      "execution_count": 17,
      "metadata": {
        "colab": {
          "base_uri": "https://localhost:8080/"
        },
        "id": "ZhU4cllnaLWm",
        "outputId": "d222d018-8ecc-4947-b3b4-36c1339f896b"
      },
      "outputs": [
        {
          "data": {
            "text/plain": [
              "0"
            ]
          },
          "execution_count": 17,
          "metadata": {},
          "output_type": "execute_result"
        }
      ],
      "source": [
        "len(base_model.trainable_variables)"
      ]
    },
    {
      "cell_type": "code",
      "execution_count": 18,
      "metadata": {
        "id": "ZQpd6zvFja3l"
      },
      "outputs": [],
      "source": [
        "base_model.trainable = True \n",
        "\n",
        "for layer in base_model.layers[:-10]:\n",
        "  layer.trainable = False \n",
        "\n",
        "model_0.compile(\n",
        "    loss='categorical_crossentropy', \n",
        "    optimizer=tf.keras.optimizers.Adam(learning_rate=0.0001), \n",
        "     metrics=[tf.keras.metrics.BinaryAccuracy(name='accuracy'),\n",
        "              tf.keras.metrics.Precision(name='precision'),\n",
        "              tf.keras.metrics.Recall(name='recall')])\n"
      ]
    },
    {
      "cell_type": "code",
      "execution_count": 19,
      "metadata": {
        "colab": {
          "base_uri": "https://localhost:8080/"
        },
        "id": "cjLNzR4fdLza",
        "outputId": "ad2594e1-dbb5-4f1b-8762-1a2770accca0"
      },
      "outputs": [
        {
          "name": "stdout",
          "output_type": "stream",
          "text": [
            "Epoch 10/15\n",
            "375/375 [==============================] - ETA: 0s - loss: 0.3144 - accuracy: 0.9640 - precision: 0.9125 - recall: 0.8669\n",
            "Epoch 10: saving model to /content/drive/MyDrive/datasets/data/checkpoints/MODEL_0/checkpoint-10.ckpt\n",
            "375/375 [==============================] - 46s 105ms/step - loss: 0.3144 - accuracy: 0.9640 - precision: 0.9125 - recall: 0.8669 - val_loss: 0.2706 - val_accuracy: 0.9725 - val_precision: 0.9273 - val_recall: 0.9062\n",
            "Epoch 11/15\n",
            "375/375 [==============================] - ETA: 0s - loss: 0.2424 - accuracy: 0.9738 - precision: 0.9352 - recall: 0.9054\n",
            "Epoch 11: saving model to /content/drive/MyDrive/datasets/data/checkpoints/MODEL_0/checkpoint-11.ckpt\n",
            "375/375 [==============================] - 35s 93ms/step - loss: 0.2424 - accuracy: 0.9738 - precision: 0.9352 - recall: 0.9054 - val_loss: 0.2717 - val_accuracy: 0.9777 - val_precision: 0.9446 - val_recall: 0.9205\n",
            "Epoch 12/15\n",
            "375/375 [==============================] - ETA: 0s - loss: 0.1995 - accuracy: 0.9782 - precision: 0.9452 - recall: 0.9225\n",
            "Epoch 12: saving model to /content/drive/MyDrive/datasets/data/checkpoints/MODEL_0/checkpoint-12.ckpt\n",
            "375/375 [==============================] - 33s 88ms/step - loss: 0.1995 - accuracy: 0.9782 - precision: 0.9452 - recall: 0.9225 - val_loss: 0.2539 - val_accuracy: 0.9759 - val_precision: 0.9413 - val_recall: 0.9119\n",
            "Epoch 13/15\n",
            "375/375 [==============================] - ETA: 0s - loss: 0.1684 - accuracy: 0.9828 - precision: 0.9581 - recall: 0.9381\n",
            "Epoch 13: saving model to /content/drive/MyDrive/datasets/data/checkpoints/MODEL_0/checkpoint-13.ckpt\n",
            "375/375 [==============================] - 38s 99ms/step - loss: 0.1684 - accuracy: 0.9828 - precision: 0.9581 - recall: 0.9381 - val_loss: 0.1815 - val_accuracy: 0.9801 - val_precision: 0.9454 - val_recall: 0.9347\n",
            "Epoch 14/15\n",
            "375/375 [==============================] - ETA: 0s - loss: 0.1451 - accuracy: 0.9851 - precision: 0.9632 - recall: 0.9469\n",
            "Epoch 14: saving model to /content/drive/MyDrive/datasets/data/checkpoints/MODEL_0/checkpoint-14.ckpt\n",
            "375/375 [==============================] - 36s 94ms/step - loss: 0.1451 - accuracy: 0.9851 - precision: 0.9632 - recall: 0.9469 - val_loss: 0.2257 - val_accuracy: 0.9754 - val_precision: 0.9335 - val_recall: 0.9176\n",
            "Epoch 15/15\n",
            "375/375 [==============================] - ETA: 0s - loss: 0.1248 - accuracy: 0.9878 - precision: 0.9697 - recall: 0.9569\n",
            "Epoch 15: saving model to /content/drive/MyDrive/datasets/data/checkpoints/MODEL_0/checkpoint-15.ckpt\n",
            "375/375 [==============================] - 33s 88ms/step - loss: 0.1248 - accuracy: 0.9878 - precision: 0.9697 - recall: 0.9569 - val_loss: 0.1816 - val_accuracy: 0.9839 - val_precision: 0.9569 - val_recall: 0.9460\n"
          ]
        }
      ],
      "source": [
        "# Fine tune for another 5 epochs\n",
        "fine_tune_epochs = 10 + 5\n",
        "\n",
        "# Refit the model (same as model_2 except with more trainable layers)\n",
        "history_model_0_fine = model_0.fit(train_data,\n",
        "                                  epochs=fine_tune_epochs,\n",
        "                                  validation_data=test_data,\n",
        "                                  initial_epoch=history_model_0.epoch[-1], # start from previous last epoch\n",
        "                                  validation_steps=int(0.25 * len(test_data)),\n",
        "                                  callbacks=[checkpoint_callback]\n",
        "                                  )"
      ]
    },
    {
      "cell_type": "code",
      "execution_count": 20,
      "metadata": {
        "id": "eqZTWHqIem25"
      },
      "outputs": [],
      "source": [
        "import matplotlib.pyplot as plt \n",
        "\n",
        "def plot_loss_curves(history):\n",
        "  \"\"\"\n",
        "  Returns separate loss curves for training and validation metrics.\n",
        "  \"\"\" \n",
        "  loss = history.history['loss']\n",
        "  val_loss = history.history['val_loss']\n",
        "\n",
        "  accuracy = history.history['accuracy']\n",
        "  val_accuracy = history.history['val_accuracy']\n",
        "\n",
        "  epochs = range(len(history.history['loss']))\n",
        "\n",
        "  # Plot loss\n",
        "  plt.plot(epochs, loss, label='training_loss')\n",
        "  plt.plot(epochs, val_loss, label='val_loss')\n",
        "  plt.title('Loss')\n",
        "  plt.xlabel('Epochs')\n",
        "  plt.legend()\n",
        "\n",
        "  # Plot accuracy\n",
        "  plt.figure()\n",
        "  plt.plot(epochs, accuracy, label='training_accuracy')\n",
        "  plt.plot(epochs, val_accuracy, label='val_accuracy')\n",
        "  plt.title('Accuracy')\n",
        "  plt.xlabel('Epochs')\n",
        "  plt.legend()"
      ]
    },
    {
      "cell_type": "code",
      "execution_count": 21,
      "metadata": {
        "colab": {
          "base_uri": "https://localhost:8080/",
          "height": 573
        },
        "id": "9aksVdnafBRM",
        "outputId": "7a64ac76-2661-4b0d-9210-d58435407340"
      },
      "outputs": [
        {
          "data": {
            "image/png": "[encoded data removed]",
            "text/plain": [
              "<Figure size 432x288 with 1 Axes>"
            ]
          },
          "metadata": {
            "needs_background": "light"
          },
          "output_type": "display_data"
        },
        {
          "data": {
            "image/png": "[encoded data removed]",
            "text/plain": [
              "<Figure size 432x288 with 1 Axes>"
            ]
          },
          "metadata": {
            "needs_background": "light"
          },
          "output_type": "display_data"
        }
      ],
      "source": [
        "plot_loss_curves(history_model_0)"
      ]
    },
    {
      "cell_type": "code",
      "execution_count": 22,
      "metadata": {
        "id": "-A5mWQuvfQgL"
      },
      "outputs": [],
      "source": [
        "def compare_historys(original_history, new_history, initial_epochs=10):\n",
        "    \"\"\"\n",
        "    Compares two TensorFlow model History objects.\n",
        "    \n",
        "    Args:\n",
        "      original_history: History object from original model (before new_history)\n",
        "      new_history: History object from continued model training (after original_history)\n",
        "      initial_epochs: Number of epochs in original_history (new_history plot starts from here) \n",
        "    \"\"\" \n",
        "    # Get original history measurements\n",
        "    acc = original_history.history[\"accuracy\"]\n",
        "    loss = original_history.history[\"loss\"]\n",
        "\n",
        "    val_acc = original_history.history[\"val_accuracy\"]\n",
        "    val_loss = original_history.history[\"val_loss\"]\n",
        "\n",
        "    # Combine original history with new history\n",
        "    total_acc = acc + new_history.history[\"accuracy\"]\n",
        "    total_loss = loss + new_history.history[\"loss\"]\n",
        "\n",
        "    total_val_acc = val_acc + new_history.history[\"val_accuracy\"]\n",
        "    total_val_loss = val_loss + new_history.history[\"val_loss\"]\n",
        "\n",
        "    # Make plots\n",
        "    plt.figure(figsize=(8, 8))\n",
        "    plt.subplot(2, 1, 1)\n",
        "    plt.plot(total_acc, label='Training Accuracy')\n",
        "    plt.plot(total_val_acc, label='Validation Accuracy')\n",
        "    plt.plot([initial_epochs-1, initial_epochs-1],\n",
        "              plt.ylim(), label='Start Fine Tuning') # reshift plot around epochs\n",
        "    plt.legend(loc='lower right')\n",
        "    plt.title('Training and Validation Accuracy')\n",
        "\n",
        "    plt.subplot(2, 1, 2)\n",
        "    plt.plot(total_loss, label='Training Loss')\n",
        "    plt.plot(total_val_loss, label='Validation Loss')\n",
        "    plt.plot([initial_epochs-1, initial_epochs-1],\n",
        "              plt.ylim(), label='Start Fine Tuning') # reshift plot around epochs\n",
        "    plt.legend(loc='upper right')\n",
        "    plt.title('Training and Validation Loss')\n",
        "    plt.xlabel('epoch')\n",
        "    plt.show()"
      ]
    },
    {
      "cell_type": "code",
      "execution_count": 30,
      "metadata": {
        "colab": {
          "base_uri": "https://localhost:8080/",
          "height": 513
        },
        "id": "RGww3Ed9flXv",
        "outputId": "0c1d7474-1174-4527-c218-9434c29852b0"
      },
      "outputs": [
        {
          "data": {
            "image/png": "[encoded data removed]",
            "text/plain": [
              "<Figure size 576x576 with 2 Axes>"
            ]
          },
          "metadata": {
            "needs_background": "light"
          },
          "output_type": "display_data"
        }
      ],
      "source": [
        "compare_historys(history_model_0, history_model_0_fine, initial_epochs=10)"
      ]
    },
    {
      "cell_type": "code",
      "execution_count": 31,
      "metadata": {
        "colab": {
          "base_uri": "https://localhost:8080/"
        },
        "id": "ylTWD-LBfr_b",
        "outputId": "57dd61cf-14d9-4344-f887-cd76ec02f6af"
      },
      "outputs": [
        {
          "data": {
            "text/plain": [
              "<tensorflow.python.training.tracking.util.CheckpointLoadStatus at 0x7f81aa2260a0>"
            ]
          },
          "execution_count": 31,
          "metadata": {},
          "output_type": "execute_result"
        }
      ],
      "source": [
        "# /content/drive/MyDrive/datasets/data/checkpoints/MODEL_0/checkpoint-12.ckpt\n",
        "model_0.load_weights(\"/content/drive/MyDrive/datasets/data/checkpoints/MODEL_0/checkpoint-15.ckpt\") "
      ]
    },
    {
      "cell_type": "code",
      "execution_count": 36,
      "metadata": {
        "colab": {
          "base_uri": "https://localhost:8080/"
        },
        "id": "1Lmbro2VhevO",
        "outputId": "7ba805e4-aa29-4ece-e271-41d67b1365a6"
      },
      "outputs": [
        {
          "name": "stdout",
          "output_type": "stream",
          "text": [
            "47/47 [==============================] - 5s 102ms/step - loss: 0.2195 - accuracy: 0.9774 - precision: 0.9385 - recall: 0.9253\n"
          ]
        },
        {
          "data": {
            "text/plain": [
              "[0.21945063769817352,\n",
              " 0.9774444699287415,\n",
              " 0.9384719133377075,\n",
              " 0.9253333210945129]"
            ]
          },
          "execution_count": 36,
          "metadata": {},
          "output_type": "execute_result"
        }
      ],
      "source": [
        "model_0.evaluate(test_data)"
      ]
    },
    {
      "cell_type": "code",
      "execution_count": 32,
      "metadata": {
        "id": "70XyVTpGg40N"
      },
      "outputs": [],
      "source": [
        "model_0.save('best_efficient_net_model.h5')"
      ]
    },
    {
      "cell_type": "code",
      "execution_count": 35,
      "metadata": {
        "id": "uLcfWs_ijFab"
      },
      "outputs": [],
      "source": [
        "model_0.save('best_efficient_net_model_ep_last.h5')"
      ]
    },
    {
      "cell_type": "code",
      "execution_count": null,
      "metadata": {
        "id": "nXbwn-strw-e"
      },
      "outputs": [],
      "source": []
    }
  ],
  "metadata": {
    "accelerator": "GPU",
    "colab": {
      "include_colab_link": true,
      "provenance": []
    },
    "gpuClass": "standard",
    "kernelspec": {
      "display_name": "env_similar-products",
      "language": "python",
      "name": "python3"
    },
    "language_info": {
      "codemirror_mode": {
        "name": "ipython",
        "version": 3
      },
      "file_extension": ".py",
      "mimetype": "text/x-python",
      "name": "python",
      "nbconvert_exporter": "python",
      "pygments_lexer": "ipython3",
      "version": "3.9.13"
    },
    "orig_nbformat": 4,
    "vscode": {
      "interpreter": {
        "hash": "d2ae175228e4b907f6759aae1200b3a8fda51833cb8d87ddc125794bd32e5598"
      }
    }
  },
  "nbformat": 4,
  "nbformat_minor": 0
}
