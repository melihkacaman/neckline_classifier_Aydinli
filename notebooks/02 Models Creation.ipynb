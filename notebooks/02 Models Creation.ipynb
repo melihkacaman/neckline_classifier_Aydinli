{
 "cells": [
  {
   "attachments": {},
   "cell_type": "markdown",
   "metadata": {},
   "source": [
    "# Constants "
   ]
  },
  {
   "cell_type": "code",
   "execution_count": 7,
   "metadata": {},
   "outputs": [],
   "source": [
    "IMG_SIZE = (224, 224) \n",
    "train_dir, test_dir = \"../data/data_min_balanced_df/train/\", \"../data/data_min_balanced_df/test/\"  "
   ]
  },
  {
   "cell_type": "code",
   "execution_count": 9,
   "metadata": {},
   "outputs": [
    {
     "name": "stdout",
     "output_type": "stream",
     "text": [
      "Found 11987 files belonging to 6 classes.\n",
      "Found 1500 files belonging to 6 classes.\n"
     ]
    }
   ],
   "source": [
    "import tensorflow as tf \n",
    "\n",
    "train_data = tf.keras.preprocessing.image_dataset_from_directory(\n",
    "    directory=train_dir,\n",
    "    image_size=IMG_SIZE,\n",
    "    label_mode=\"categorical\", \n",
    "    batch_size=32) \n",
    "\n",
    "test_data = tf.keras.preprocessing.image_dataset_from_directory(\n",
    "    directory=test_dir,\n",
    "    image_size=IMG_SIZE,\n",
    "    label_mode=\"categorical\", \n",
    "    batch_size=32) "
   ]
  },
  {
   "cell_type": "code",
   "execution_count": 12,
   "metadata": {},
   "outputs": [
    {
     "data": {
      "text/plain": [
       "(['class_0', 'class_1', 'class_2', 'class_3', 'class_4', 'class_5'],\n",
       " ['class_0', 'class_1', 'class_2', 'class_3', 'class_4', 'class_5'])"
      ]
     },
     "execution_count": 12,
     "metadata": {},
     "output_type": "execute_result"
    }
   ],
   "source": [
    "train_data.class_names, test_data.class_names"
   ]
  },
  {
   "cell_type": "code",
   "execution_count": 13,
   "metadata": {},
   "outputs": [
    {
     "name": "stdout",
     "output_type": "stream",
     "text": [
      "(32, 224, 224, 3) (32, 6)\n"
     ]
    }
   ],
   "source": [
    "for images, labels in train_data.take(1): \n",
    "    print(images.shape, labels.shape)"
   ]
  },
  {
   "attachments": {},
   "cell_type": "markdown",
   "metadata": {},
   "source": [
    "# Model 0: Efficient Net B0 "
   ]
  },
  {
   "cell_type": "code",
   "execution_count": 3,
   "metadata": {},
   "outputs": [],
   "source": [
    "base_model = tf.keras.applications.EfficientNetB0(include_top=False)\n",
    "base_model.trainable = False \n",
    "\n",
    "inputs = tf.keras.layers.Input(shape=(224, 224, 3), name=\"input_layer\")\n",
    "x = base_model(inputs) \n",
    "x = tf.keras.layers.GlobalAveragePooling2D(name='global_average_pooling_layer')(x) \n",
    "outputs = tf.keras.layers.Dense(6, activation=\"softmax\", name=\"output_layer\")(x)\n",
    "\n",
    "model_0 = tf.keras.Model(inputs, outputs) "
   ]
  },
  {
   "cell_type": "code",
   "execution_count": 4,
   "metadata": {},
   "outputs": [],
   "source": [
    "model_0.compile(loss=\"categorical_crossentropy\", \n",
    "                optimizer=tf.keras.optimizers.Adam(),\n",
    "                metrics=[\n",
    "                    tf.keras.metrics.BinaryAccuracy(name='accuracy'),\n",
    "                    tf.keras.metrics.Precision(name='precision'),\n",
    "                    tf.keras.metrics.Recall(name='recall')\n",
    "                ]) \n"
   ]
  },
  {
   "cell_type": "code",
   "execution_count": 5,
   "metadata": {},
   "outputs": [],
   "source": [
    "checkpoint_path = \"checkpoints/MODEL_0/checkpoint-{epoch:01d}.ckpt\" \n",
    "checkpoint_callback = tf.keras.callbacks.ModelCheckpoint(filepath=checkpoint_path,\n",
    "                                                         save_weights_only=True,\n",
    "                                                         save_best_only=False,\n",
    "                                                         verbose=1) "
   ]
  },
  {
   "cell_type": "code",
   "execution_count": null,
   "metadata": {},
   "outputs": [],
   "source": []
  }
 ],
 "metadata": {
  "kernelspec": {
   "display_name": "env_similar-products",
   "language": "python",
   "name": "python3"
  },
  "language_info": {
   "codemirror_mode": {
    "name": "ipython",
    "version": 3
   },
   "file_extension": ".py",
   "mimetype": "text/x-python",
   "name": "python",
   "nbconvert_exporter": "python",
   "pygments_lexer": "ipython3",
   "version": "3.9.13"
  },
  "orig_nbformat": 4,
  "vscode": {
   "interpreter": {
    "hash": "d2ae175228e4b907f6759aae1200b3a8fda51833cb8d87ddc125794bd32e5598"
   }
  }
 },
 "nbformat": 4,
 "nbformat_minor": 2
}
