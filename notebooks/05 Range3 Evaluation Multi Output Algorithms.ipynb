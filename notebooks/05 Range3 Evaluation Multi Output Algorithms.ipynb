{
 "cells": [
  {
   "cell_type": "code",
   "execution_count": 1,
   "metadata": {},
   "outputs": [],
   "source": [
    "import tensorflow as tf \n",
    "import numpy as np \n",
    "import pandas as pd "
   ]
  },
  {
   "attachments": {},
   "cell_type": "markdown",
   "metadata": {},
   "source": [
    "# Get The Data "
   ]
  },
  {
   "cell_type": "code",
   "execution_count": 2,
   "metadata": {},
   "outputs": [],
   "source": [
    "data = pd.read_csv(\"../data/data_3_range.csv\", header=None, names=[\"secenek\", \"cinsiyet\", \"sidmalzememarka\", \"UrunGrubu\", \"ResimAdresi\", \"YakaTipi\", \n",
    "                                                            \"CepOzelligi\", \"KolBoyuAciklama\", \"resimSira\"])"
   ]
  },
  {
   "cell_type": "code",
   "execution_count": 3,
   "metadata": {},
   "outputs": [],
   "source": [
    "data_img = data[[\"secenek\",\"ResimAdresi\", \"YakaTipi\", \"CepOzelligi\", \"KolBoyuAciklama\"]]\n",
    "from sklearn.model_selection import train_test_split \n",
    "\n",
    "X_train, X_test, y_train, y_test = train_test_split(\n",
    "    data_img.iloc[:, :2],\n",
    "    data_img.iloc[:, 2:],\n",
    "    test_size=0.25, \n",
    "    random_state=42\n",
    ")\n",
    "\n",
    "X_test.drop(index=[898, 745, 945], inplace=True) \n",
    "y_test.drop(index=[898, 745, 945], inplace=True) "
   ]
  },
  {
   "cell_type": "code",
   "execution_count": 4,
   "metadata": {},
   "outputs": [],
   "source": [
    "import os \n",
    "X_train[\"paths\"] = X_train.index.copy() \n",
    "X_train[\"paths\"] = X_train[\"paths\"].apply(lambda x: os.path.join(\"../data/range_3_images_AYD/train/\",str(x) + '.png')) \n",
    "\n",
    "X_test[\"paths\"] = X_test.index.copy() \n",
    "X_test[\"paths\"] = X_test[\"paths\"].apply(lambda x: os.path.join(\"../data/range_3_images_AYD/test/\",str(x) + '.png')) "
   ]
  },
  {
   "cell_type": "code",
   "execution_count": 5,
   "metadata": {},
   "outputs": [
    {
     "data": {
      "text/html": [
       "<div>\n",
       "<style scoped>\n",
       "    .dataframe tbody tr th:only-of-type {\n",
       "        vertical-align: middle;\n",
       "    }\n",
       "\n",
       "    .dataframe tbody tr th {\n",
       "        vertical-align: top;\n",
       "    }\n",
       "\n",
       "    .dataframe thead th {\n",
       "        text-align: right;\n",
       "    }\n",
       "</style>\n",
       "<table border=\"1\" class=\"dataframe\">\n",
       "  <thead>\n",
       "    <tr style=\"text-align: right;\">\n",
       "      <th></th>\n",
       "      <th>paths</th>\n",
       "      <th>YakaTipi_id</th>\n",
       "      <th>CepOzelligi_id</th>\n",
       "      <th>KolBoyuAciklama_id</th>\n",
       "    </tr>\n",
       "  </thead>\n",
       "  <tbody>\n",
       "    <tr>\n",
       "      <th>2399</th>\n",
       "      <td>../data/range_3_images_AYD/test/2399.png</td>\n",
       "      <td>0</td>\n",
       "      <td>0</td>\n",
       "      <td>1</td>\n",
       "    </tr>\n",
       "    <tr>\n",
       "      <th>801</th>\n",
       "      <td>../data/range_3_images_AYD/test/801.png</td>\n",
       "      <td>0</td>\n",
       "      <td>0</td>\n",
       "      <td>0</td>\n",
       "    </tr>\n",
       "    <tr>\n",
       "      <th>2289</th>\n",
       "      <td>../data/range_3_images_AYD/test/2289.png</td>\n",
       "      <td>1</td>\n",
       "      <td>0</td>\n",
       "      <td>0</td>\n",
       "    </tr>\n",
       "    <tr>\n",
       "      <th>2345</th>\n",
       "      <td>../data/range_3_images_AYD/test/2345.png</td>\n",
       "      <td>0</td>\n",
       "      <td>0</td>\n",
       "      <td>0</td>\n",
       "    </tr>\n",
       "    <tr>\n",
       "      <th>3616</th>\n",
       "      <td>../data/range_3_images_AYD/test/3616.png</td>\n",
       "      <td>3</td>\n",
       "      <td>0</td>\n",
       "      <td>1</td>\n",
       "    </tr>\n",
       "  </tbody>\n",
       "</table>\n",
       "</div>"
      ],
      "text/plain": [
       "                                         paths  YakaTipi_id  CepOzelligi_id  \\\n",
       "2399  ../data/range_3_images_AYD/test/2399.png            0               0   \n",
       "801    ../data/range_3_images_AYD/test/801.png            0               0   \n",
       "2289  ../data/range_3_images_AYD/test/2289.png            1               0   \n",
       "2345  ../data/range_3_images_AYD/test/2345.png            0               0   \n",
       "3616  ../data/range_3_images_AYD/test/3616.png            3               0   \n",
       "\n",
       "      KolBoyuAciklama_id  \n",
       "2399                   1  \n",
       "801                    0  \n",
       "2289                   0  \n",
       "2345                   0  \n",
       "3616                   1  "
      ]
     },
     "execution_count": 5,
     "metadata": {},
     "output_type": "execute_result"
    }
   ],
   "source": [
    "yaka_id = pd.Series(y_train.YakaTipi.value_counts().index).to_dict()  \n",
    "cep_id = pd.Series(y_train.CepOzelligi.value_counts().index).to_dict()   \n",
    "kolBoyu_id = pd.Series(y_train.KolBoyuAciklama.value_counts().index).to_dict()   \n",
    "\n",
    "yaka_id = {v: k for k, v in yaka_id.items()}\n",
    "cep_id = {v: k for k, v in cep_id.items()}\n",
    "kolBoyu_id = {v: k for k, v in kolBoyu_id.items()}\n",
    "\n",
    "y_train['YakaTipi_id'] = y_train['YakaTipi'].map(yaka_id)\n",
    "y_train['CepOzelligi_id'] = y_train['CepOzelligi'].map(cep_id)\n",
    "y_train['KolBoyuAciklama_id'] = y_train['KolBoyuAciklama'].map(kolBoyu_id)\n",
    "\n",
    "y_test['YakaTipi_id'] = y_test['YakaTipi'].map(yaka_id)\n",
    "y_test['CepOzelligi_id'] = y_test['CepOzelligi'].map(cep_id)\n",
    "y_test['KolBoyuAciklama_id'] = y_test['KolBoyuAciklama'].map(kolBoyu_id)\n",
    "\n",
    "Xy_train = pd.concat([X_train, y_train], axis=1).drop(columns=[\"secenek\", \"ResimAdresi\", \"YakaTipi\", \"CepOzelligi\", \"KolBoyuAciklama\"])\n",
    "Xy_test = pd.concat([X_test, y_test], axis=1).drop(columns=[\"secenek\", \"ResimAdresi\", \"YakaTipi\", \"CepOzelligi\", \"KolBoyuAciklama\"]) \n",
    "Xy_test.head()  "
   ]
  },
  {
   "cell_type": "code",
   "execution_count": 6,
   "metadata": {},
   "outputs": [],
   "source": [
    "from custom_data_generator import AydFashionDataGenerator\n",
    "custom_data_gen = AydFashionDataGenerator(Xy_train, Xy_test) "
   ]
  },
  {
   "cell_type": "code",
   "execution_count": 9,
   "metadata": {},
   "outputs": [],
   "source": [
    "train_set = custom_data_gen.generate_images(True, bathc_size=32, epoch=1)\n",
    "test_set = custom_data_gen.generate_images(False, bathc_size=32, epoch=1)"
   ]
  },
  {
   "attachments": {},
   "cell_type": "markdown",
   "metadata": {},
   "source": [
    "# Model 3: VGG-16 Multi Output "
   ]
  },
  {
   "cell_type": "code",
   "execution_count": 8,
   "metadata": {},
   "outputs": [],
   "source": [
    "model_3 = tf.keras.models.load_model(\"../trained_models/model_3.h5\")"
   ]
  },
  {
   "cell_type": "code",
   "execution_count": 11,
   "metadata": {},
   "outputs": [
    {
     "name": "stdout",
     "output_type": "stream",
     "text": [
      "35/35 [==============================] - 170s 5s/step - loss: 1.1883 - YakaTipi_loss: 0.4441 - CepOzelligi_loss: 0.5691 - KolBoyuAciklama_loss: 0.1750 - YakaTipi_precision_yakaTipi: 0.8607 - YakaTipi_recall_yakaTipi: 0.8384 - CepOzelligi_precision_cep: 0.8057 - CepOzelligi_recall_cep: 0.7848 - KolBoyuAciklama_precision_kol: 0.8471 - KolBoyuAciklama_recall_kol: 0.8402\n"
     ]
    },
    {
     "data": {
      "text/plain": [
       "[1.1882787942886353,\n",
       " 0.4440896213054657,\n",
       " 0.5691457986831665,\n",
       " 0.17504343390464783,\n",
       " 0.8606782555580139,\n",
       " 0.8383928537368774,\n",
       " 0.8056828379631042,\n",
       " 0.7848214507102966,\n",
       " 0.8471074104309082,\n",
       " 0.8401639461517334]"
      ]
     },
     "execution_count": 11,
     "metadata": {},
     "output_type": "execute_result"
    }
   ],
   "source": [
    "model_3.evaluate(test_set)"
   ]
  },
  {
   "cell_type": "code",
   "execution_count": 157,
   "metadata": {},
   "outputs": [],
   "source": [
    "def predict(paths: list, model: tf.keras.models.Model, dims: tuple = (224, 224, 3)):\n",
    "    \"\"\"\n",
    "    model: model which you want to predict with   \n",
    "    path: paths of the images \n",
    "    dims: default dim of the image \n",
    "    \"\"\" \n",
    "    result = dict()   \n",
    "    for cls_n in model.outputs:\n",
    "        result[cls_n.name] = [] \n",
    "        \n",
    "    i = 0 \n",
    "    for path in paths:\n",
    "        img = tf.io.read_file(path) \n",
    "        img = tf.image.decode_jpeg(img, channels=3) \n",
    "        img = tf.image.resize(img, [dims[0], dims[1]]) \n",
    "        img = tf.reshape(img, [1, dims[0], dims[1], dims[2]])\n",
    "\n",
    "        d = 0 \n",
    "        y_hat = model.predict(img, verbose=0)\n",
    "        for key in result.keys():\n",
    "            result[key].append(y_hat[d].squeeze().tolist())\n",
    "            d += 1 \n",
    "            \n",
    "        # result.append(model.predict(img, verbose=0)) \n",
    "        i = i + 1 \n",
    "        if i % 100 == 0: \n",
    "            print(f\"{i} th iteration. You have {len(paths)} inputs. \")\n",
    "\n",
    "    return result"
   ]
  },
  {
   "cell_type": "code",
   "execution_count": 178,
   "metadata": {},
   "outputs": [],
   "source": [
    "y_hat_dic = predict(X_test[\"paths\"].to_list()[:5], \n",
    "        model_3)"
   ]
  },
  {
   "cell_type": "code",
   "execution_count": 175,
   "metadata": {},
   "outputs": [],
   "source": [
    "def y_id_to_one_hot(y_test: pd.DataFrame):\n",
    "    \"\"\"\n",
    "        y_test: it has to consist of just ids of outputs\n",
    "        \n",
    "        return list of one hot dummies for each output\n",
    "    \"\"\"\n",
    "    result = dict() \n",
    "    for col in y_test: \n",
    "        result[col] = pd.get_dummies(y_test[col]).to_numpy().tolist() \n",
    "    \n",
    "    return result"
   ]
  },
  {
   "cell_type": "code",
   "execution_count": 176,
   "metadata": {},
   "outputs": [],
   "source": [
    "d = y_id_to_one_hot(y_test.iloc[:, 3:])"
   ]
  },
  {
   "cell_type": "code",
   "execution_count": 361,
   "metadata": {},
   "outputs": [
    {
     "name": "stdout",
     "output_type": "stream",
     "text": [
      "100 th iteration. You have 1128 inputs. \n",
      "200 th iteration. You have 1128 inputs. \n",
      "300 th iteration. You have 1128 inputs. \n",
      "400 th iteration. You have 1128 inputs. \n",
      "500 th iteration. You have 1128 inputs. \n",
      "600 th iteration. You have 1128 inputs. \n",
      "700 th iteration. You have 1128 inputs. \n",
      "800 th iteration. You have 1128 inputs. \n",
      "900 th iteration. You have 1128 inputs. \n",
      "1000 th iteration. You have 1128 inputs. \n",
      "1100 th iteration. You have 1128 inputs. \n"
     ]
    }
   ],
   "source": [
    "from multioutput_eval import MultiOutputModelTester\n",
    "tester = MultiOutputModelTester(model_3, y_test.iloc[:, 3:], X_test[\"paths\"].to_list()[:]) "
   ]
  },
  {
   "cell_type": "code",
   "execution_count": 366,
   "metadata": {},
   "outputs": [
    {
     "data": {
      "text/html": [
       "<div>\n",
       "<style scoped>\n",
       "    .dataframe tbody tr th:only-of-type {\n",
       "        vertical-align: middle;\n",
       "    }\n",
       "\n",
       "    .dataframe tbody tr th {\n",
       "        vertical-align: top;\n",
       "    }\n",
       "\n",
       "    .dataframe thead th {\n",
       "        text-align: right;\n",
       "    }\n",
       "</style>\n",
       "<table border=\"1\" class=\"dataframe\">\n",
       "  <thead>\n",
       "    <tr style=\"text-align: right;\">\n",
       "      <th></th>\n",
       "      <th>YakaTipi_id</th>\n",
       "      <th>CepOzelligi_id</th>\n",
       "      <th>KolBoyuAciklama_id</th>\n",
       "    </tr>\n",
       "  </thead>\n",
       "  <tbody>\n",
       "    <tr>\n",
       "      <th>threshold</th>\n",
       "      <td>0.50</td>\n",
       "      <td>0.50</td>\n",
       "      <td>0.50</td>\n",
       "    </tr>\n",
       "    <tr>\n",
       "      <th>precision_weighted</th>\n",
       "      <td>0.85</td>\n",
       "      <td>0.81</td>\n",
       "      <td>0.93</td>\n",
       "    </tr>\n",
       "    <tr>\n",
       "      <th>recall_weighted</th>\n",
       "      <td>0.85</td>\n",
       "      <td>0.80</td>\n",
       "      <td>0.93</td>\n",
       "    </tr>\n",
       "    <tr>\n",
       "      <th>f1_score_weighted</th>\n",
       "      <td>0.84</td>\n",
       "      <td>0.80</td>\n",
       "      <td>0.93</td>\n",
       "    </tr>\n",
       "  </tbody>\n",
       "</table>\n",
       "</div>"
      ],
      "text/plain": [
       "                    YakaTipi_id  CepOzelligi_id  KolBoyuAciklama_id\n",
       "threshold                  0.50            0.50                0.50\n",
       "precision_weighted         0.85            0.81                0.93\n",
       "recall_weighted            0.85            0.80                0.93\n",
       "f1_score_weighted          0.84            0.80                0.93"
      ]
     },
     "execution_count": 366,
     "metadata": {},
     "output_type": "execute_result"
    }
   ],
   "source": [
    "pd.DataFrame(tester.get_metrics())"
   ]
  }
 ],
 "metadata": {
  "kernelspec": {
   "display_name": "env_similar-products",
   "language": "python",
   "name": "python3"
  },
  "language_info": {
   "codemirror_mode": {
    "name": "ipython",
    "version": 3
   },
   "file_extension": ".py",
   "mimetype": "text/x-python",
   "name": "python",
   "nbconvert_exporter": "python",
   "pygments_lexer": "ipython3",
   "version": "3.9.13"
  },
  "orig_nbformat": 4
 },
 "nbformat": 4,
 "nbformat_minor": 2
}
